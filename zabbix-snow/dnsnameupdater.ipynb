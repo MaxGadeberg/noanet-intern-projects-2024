{
 "cells": [
  {
   "cell_type": "code",
   "execution_count": null,
   "id": "65190a0f-d05c-4745-a736-c488d5fbc940",
   "metadata": {},
   "outputs": [],
   "source": [
    "# Max Gadeberg\n",
    "# Aug 29, 2024\n",
    "\n",
    "import requests\n",
    "\n",
    "url = \"https://exampledev.service-now.com/api/now/table/cmdb_ci_service\"\n",
    "query = \"u_cpe_dnsLIKE.example.lan\"\n",
    "\n",
    "params = {\n",
    "    'sysparm_fields': 'u_cpe_dns,name,sys_id,operational_status,u_nn_commit_rate',\n",
    "    'sysparm_query': query\n",
    "}\n",
    "\n",
    "headers = {\n",
    "    'Authorization': '',\n",
    "    'Accept': 'application/json',\n",
    "    'Content-Type': 'application/json'\n",
    "}\n",
    "\n",
    "response = requests.get(url, headers=headers, params=params)\n",
    "if response.status_code != 200:\n",
    "    print(f\"Failed to fetch data: {response.status_code} - {response.text}\")\n",
    "    exit()\n",
    "\n",
    "data = response.json()\n",
    "\n",
    "for record in data.get('result', []):\n",
    "    sys_id = record.get('sys_id')\n",
    "    current_u_cpe_dns = record.get('u_cpe_dns')\n",
    "    \n",
    "    new_u_cpe_dns = current_u_cpe_dns.replace('.example.lan', '.nmc.example.net')\n",
    "    \n",
    "    update_url = f\"{url}/{sys_id}\"\n",
    "    payload = {\n",
    "        'u_cpe_dns': new_u_cpe_dns\n",
    "    }\n",
    "    \n",
    "    put_response = requests.put(update_url, headers=headers, json=payload)\n",
    "    if put_response.status_code != 200:\n",
    "        print(f\"Failed to update record with sys_id {sys_id}: {put_response.status_code} - {put_response.text}\")\n",
    "    else:\n",
    "        print(f\"Updated u_cpe_dns for record with sys_id {sys_id}\")\n",
    "\n",
    "print(\"All updates completed.\")\n"
   ]
  },
  {
   "cell_type": "code",
   "execution_count": null,
   "id": "59f94a65-843c-4b6c-927a-16f57e4b808f",
   "metadata": {},
   "outputs": [],
   "source": []
  }
 ],
 "metadata": {
  "kernelspec": {
   "display_name": "Python 3 (ipykernel)",
   "language": "python",
   "name": "python3"
  },
  "language_info": {
   "codemirror_mode": {
    "name": "ipython",
    "version": 3
   },
   "file_extension": ".py",
   "mimetype": "text/x-python",
   "name": "python",
   "nbconvert_exporter": "python",
   "pygments_lexer": "ipython3",
   "version": "3.9.18"
  }
 },
 "nbformat": 4,
 "nbformat_minor": 5
}
